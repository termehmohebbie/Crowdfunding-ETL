{
  "metadata": {
    "language_info": {
      "codemirror_mode": {
        "name": "python",
        "version": 3
      },
      "file_extension": ".py",
      "mimetype": "text/x-python",
      "name": "python",
      "nbconvert_exporter": "python",
      "pygments_lexer": "ipython3",
      "version": "3.8"
    },
    "kernelspec": {
      "name": "python",
      "display_name": "Python (Pyodide)",
      "language": "python"
    }
  },
  "nbformat_minor": 4,
  "nbformat": 4,
  "cells": [
    {
      "cell_type": "code",
      "source": "import pandas as pd\nimport json",
      "metadata": {
        "trusted": true
      },
      "execution_count": 1,
      "outputs": []
    },
    {
      "cell_type": "code",
      "source": "ls = ['{\"contact_id\": 4661, \"name\": \"Cecilia Velasco\", \"email\": \"cecilia.velasco@rodrigues.fr\"}','{\"contact_id\": 3765, \"name\": \"Mariana Ellis\", \"email\": \"mariana.ellis@rossi.org\"}']\n\ndf = pd.DataFrame(ls)\ndf.head()",
      "metadata": {
        "trusted": true
      },
      "execution_count": 4,
      "outputs": [
        {
          "execution_count": 4,
          "output_type": "execute_result",
          "data": {
            "text/plain": "                                                   0\n0  {\"contact_id\": 4661, \"name\": \"Cecilia Velasco\"...\n1  {\"contact_id\": 3765, \"name\": \"Mariana Ellis\", ...",
            "text/html": "<div>\n<style scoped>\n    .dataframe tbody tr th:only-of-type {\n        vertical-align: middle;\n    }\n\n    .dataframe tbody tr th {\n        vertical-align: top;\n    }\n\n    .dataframe thead th {\n        text-align: right;\n    }\n</style>\n<table border=\"1\" class=\"dataframe\">\n  <thead>\n    <tr style=\"text-align: right;\">\n      <th></th>\n      <th>0</th>\n    </tr>\n  </thead>\n  <tbody>\n    <tr>\n      <th>0</th>\n      <td>{\"contact_id\": 4661, \"name\": \"Cecilia Velasco\"...</td>\n    </tr>\n    <tr>\n      <th>1</th>\n      <td>{\"contact_id\": 3765, \"name\": \"Mariana Ellis\", ...</td>\n    </tr>\n  </tbody>\n</table>\n</div>"
          },
          "metadata": {}
        }
      ]
    },
    {
      "cell_type": "code",
      "source": "for item in df[0]:\n    y = json.loads(item)\n    print(y)",
      "metadata": {
        "trusted": true
      },
      "execution_count": 11,
      "outputs": [
        {
          "name": "stdout",
          "text": "{'contact_id': 4661, 'name': 'Cecilia Velasco', 'email': 'cecilia.velasco@rodrigues.fr'}\n{'contact_id': 3765, 'name': 'Mariana Ellis', 'email': 'mariana.ellis@rossi.org'}\n",
          "output_type": "stream"
        }
      ]
    },
    {
      "cell_type": "code",
      "source": "for item in df[0]:\n    y = json.loads(item)\n    print(y[\"name\"])",
      "metadata": {
        "trusted": true
      },
      "execution_count": 10,
      "outputs": [
        {
          "name": "stdout",
          "text": "Cecilia Velasco\nMariana Ellis\n",
          "output_type": "stream"
        }
      ]
    },
    {
      "cell_type": "code",
      "source": "dict_values = []\n\nfor item in df[0]:\n    testlist = []\n    y = json.loads(item)\n    testlist.append(y['contact_id'])\n    testlist.append(y['name'])\n    testlist.append(y['email'])\n    dict_values.append(testlist)\n\ndict_values\n    ",
      "metadata": {
        "trusted": true
      },
      "execution_count": 12,
      "outputs": [
        {
          "execution_count": 12,
          "output_type": "execute_result",
          "data": {
            "text/plain": "[[4661, 'Cecilia Velasco', 'cecilia.velasco@rodrigues.fr'],\n [3765, 'Mariana Ellis', 'mariana.ellis@rossi.org']]"
          },
          "metadata": {}
        }
      ]
    },
    {
      "cell_type": "code",
      "source": "contact_info_df = pd.DataFrame(dict_values)\ncontact_info_df",
      "metadata": {
        "trusted": true
      },
      "execution_count": 13,
      "outputs": [
        {
          "execution_count": 13,
          "output_type": "execute_result",
          "data": {
            "text/plain": "      0                1                             2\n0  4661  Cecilia Velasco  cecilia.velasco@rodrigues.fr\n1  3765    Mariana Ellis       mariana.ellis@rossi.org",
            "text/html": "<div>\n<style scoped>\n    .dataframe tbody tr th:only-of-type {\n        vertical-align: middle;\n    }\n\n    .dataframe tbody tr th {\n        vertical-align: top;\n    }\n\n    .dataframe thead th {\n        text-align: right;\n    }\n</style>\n<table border=\"1\" class=\"dataframe\">\n  <thead>\n    <tr style=\"text-align: right;\">\n      <th></th>\n      <th>0</th>\n      <th>1</th>\n      <th>2</th>\n    </tr>\n  </thead>\n  <tbody>\n    <tr>\n      <th>0</th>\n      <td>4661</td>\n      <td>Cecilia Velasco</td>\n      <td>cecilia.velasco@rodrigues.fr</td>\n    </tr>\n    <tr>\n      <th>1</th>\n      <td>3765</td>\n      <td>Mariana Ellis</td>\n      <td>mariana.ellis@rossi.org</td>\n    </tr>\n  </tbody>\n</table>\n</div>"
          },
          "metadata": {}
        }
      ]
    },
    {
      "cell_type": "code",
      "source": "contact_info_df = contact_info_df.rename(columns={0:'contact_id', 1:'name', 2:'email'})\ncontact_info_df",
      "metadata": {
        "trusted": true
      },
      "execution_count": 16,
      "outputs": [
        {
          "execution_count": 16,
          "output_type": "execute_result",
          "data": {
            "text/plain": "   contact_id             name                         email\n0        4661  Cecilia Velasco  cecilia.velasco@rodrigues.fr\n1        3765    Mariana Ellis       mariana.ellis@rossi.org",
            "text/html": "<div>\n<style scoped>\n    .dataframe tbody tr th:only-of-type {\n        vertical-align: middle;\n    }\n\n    .dataframe tbody tr th {\n        vertical-align: top;\n    }\n\n    .dataframe thead th {\n        text-align: right;\n    }\n</style>\n<table border=\"1\" class=\"dataframe\">\n  <thead>\n    <tr style=\"text-align: right;\">\n      <th></th>\n      <th>contact_id</th>\n      <th>name</th>\n      <th>email</th>\n    </tr>\n  </thead>\n  <tbody>\n    <tr>\n      <th>0</th>\n      <td>4661</td>\n      <td>Cecilia Velasco</td>\n      <td>cecilia.velasco@rodrigues.fr</td>\n    </tr>\n    <tr>\n      <th>1</th>\n      <td>3765</td>\n      <td>Mariana Ellis</td>\n      <td>mariana.ellis@rossi.org</td>\n    </tr>\n  </tbody>\n</table>\n</div>"
          },
          "metadata": {}
        }
      ]
    },
    {
      "cell_type": "code",
      "source": "contact_info_df.dtypes",
      "metadata": {
        "trusted": true
      },
      "execution_count": 17,
      "outputs": [
        {
          "execution_count": 17,
          "output_type": "execute_result",
          "data": {
            "text/plain": "contact_id     int64\nname          object\nemail         object\ndtype: object"
          },
          "metadata": {}
        }
      ]
    },
    {
      "cell_type": "code",
      "source": "for item in range(len(contact_info_df['name'])):\n    splt = contact_info_df['name'][item].split(\" \")\n    contact_info_df['first_name'][item] = splt[0]\n    contact_info_df['last_name'][item] = splt[1]\ncontact_info_df",
      "metadata": {
        "trusted": true
      },
      "execution_count": 25,
      "outputs": [
        {
          "name": "stderr",
          "text": "<ipython-input-25-cce129007344>:3: SettingWithCopyWarning: \nA value is trying to be set on a copy of a slice from a DataFrame\n\nSee the caveats in the documentation: https://pandas.pydata.org/pandas-docs/stable/user_guide/indexing.html#returning-a-view-versus-a-copy\n  contact_info_df['first_name'][item] = splt[0]\n<ipython-input-25-cce129007344>:4: SettingWithCopyWarning: \nA value is trying to be set on a copy of a slice from a DataFrame\n\nSee the caveats in the documentation: https://pandas.pydata.org/pandas-docs/stable/user_guide/indexing.html#returning-a-view-versus-a-copy\n  contact_info_df['last_name'][item] = splt[1]\n",
          "output_type": "stream"
        },
        {
          "execution_count": 25,
          "output_type": "execute_result",
          "data": {
            "text/plain": "   contact_id             name                         email first_name  \\\n0        4661  Cecilia Velasco  cecilia.velasco@rodrigues.fr    Cecilia   \n1        3765    Mariana Ellis       mariana.ellis@rossi.org    Mariana   \n\n  last_name  \n0   Velasco  \n1     Ellis  ",
            "text/html": "<div>\n<style scoped>\n    .dataframe tbody tr th:only-of-type {\n        vertical-align: middle;\n    }\n\n    .dataframe tbody tr th {\n        vertical-align: top;\n    }\n\n    .dataframe thead th {\n        text-align: right;\n    }\n</style>\n<table border=\"1\" class=\"dataframe\">\n  <thead>\n    <tr style=\"text-align: right;\">\n      <th></th>\n      <th>contact_id</th>\n      <th>name</th>\n      <th>email</th>\n      <th>first_name</th>\n      <th>last_name</th>\n    </tr>\n  </thead>\n  <tbody>\n    <tr>\n      <th>0</th>\n      <td>4661</td>\n      <td>Cecilia Velasco</td>\n      <td>cecilia.velasco@rodrigues.fr</td>\n      <td>Cecilia</td>\n      <td>Velasco</td>\n    </tr>\n    <tr>\n      <th>1</th>\n      <td>3765</td>\n      <td>Mariana Ellis</td>\n      <td>mariana.ellis@rossi.org</td>\n      <td>Mariana</td>\n      <td>Ellis</td>\n    </tr>\n  </tbody>\n</table>\n</div>"
          },
          "metadata": {}
        }
      ]
    },
    {
      "cell_type": "code",
      "source": "del contact_info_df['name']\ncontact_info_df",
      "metadata": {
        "trusted": true
      },
      "execution_count": 26,
      "outputs": [
        {
          "execution_count": 26,
          "output_type": "execute_result",
          "data": {
            "text/plain": "   contact_id                         email first_name last_name\n0        4661  cecilia.velasco@rodrigues.fr    Cecilia   Velasco\n1        3765       mariana.ellis@rossi.org    Mariana     Ellis",
            "text/html": "<div>\n<style scoped>\n    .dataframe tbody tr th:only-of-type {\n        vertical-align: middle;\n    }\n\n    .dataframe tbody tr th {\n        vertical-align: top;\n    }\n\n    .dataframe thead th {\n        text-align: right;\n    }\n</style>\n<table border=\"1\" class=\"dataframe\">\n  <thead>\n    <tr style=\"text-align: right;\">\n      <th></th>\n      <th>contact_id</th>\n      <th>email</th>\n      <th>first_name</th>\n      <th>last_name</th>\n    </tr>\n  </thead>\n  <tbody>\n    <tr>\n      <th>0</th>\n      <td>4661</td>\n      <td>cecilia.velasco@rodrigues.fr</td>\n      <td>Cecilia</td>\n      <td>Velasco</td>\n    </tr>\n    <tr>\n      <th>1</th>\n      <td>3765</td>\n      <td>mariana.ellis@rossi.org</td>\n      <td>Mariana</td>\n      <td>Ellis</td>\n    </tr>\n  </tbody>\n</table>\n</div>"
          },
          "metadata": {}
        }
      ]
    },
    {
      "cell_type": "code",
      "source": "contact_info_df = contact_info_df[['contact_id','first_name','last_name','email']]\ncontact_info_df",
      "metadata": {
        "trusted": true
      },
      "execution_count": 27,
      "outputs": [
        {
          "execution_count": 27,
          "output_type": "execute_result",
          "data": {
            "text/plain": "   contact_id first_name last_name                         email\n0        4661    Cecilia   Velasco  cecilia.velasco@rodrigues.fr\n1        3765    Mariana     Ellis       mariana.ellis@rossi.org",
            "text/html": "<div>\n<style scoped>\n    .dataframe tbody tr th:only-of-type {\n        vertical-align: middle;\n    }\n\n    .dataframe tbody tr th {\n        vertical-align: top;\n    }\n\n    .dataframe thead th {\n        text-align: right;\n    }\n</style>\n<table border=\"1\" class=\"dataframe\">\n  <thead>\n    <tr style=\"text-align: right;\">\n      <th></th>\n      <th>contact_id</th>\n      <th>first_name</th>\n      <th>last_name</th>\n      <th>email</th>\n    </tr>\n  </thead>\n  <tbody>\n    <tr>\n      <th>0</th>\n      <td>4661</td>\n      <td>Cecilia</td>\n      <td>Velasco</td>\n      <td>cecilia.velasco@rodrigues.fr</td>\n    </tr>\n    <tr>\n      <th>1</th>\n      <td>3765</td>\n      <td>Mariana</td>\n      <td>Ellis</td>\n      <td>mariana.ellis@rossi.org</td>\n    </tr>\n  </tbody>\n</table>\n</div>"
          },
          "metadata": {}
        }
      ]
    },
    {
      "cell_type": "code",
      "source": "contact_info_df.dtypes",
      "metadata": {
        "trusted": true
      },
      "execution_count": 28,
      "outputs": [
        {
          "execution_count": 28,
          "output_type": "execute_result",
          "data": {
            "text/plain": "contact_id     int64\nfirst_name    object\nlast_name     object\nemail         object\ndtype: object"
          },
          "metadata": {}
        }
      ]
    },
    {
      "cell_type": "code",
      "source": "",
      "metadata": {},
      "execution_count": null,
      "outputs": []
    }
  ]
}